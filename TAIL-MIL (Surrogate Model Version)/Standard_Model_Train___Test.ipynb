{
 "cells": [
  {
   "cell_type": "code",
   "execution_count": 1,
   "id": "d301fc07",
   "metadata": {},
   "outputs": [],
   "source": [
    "from lib import *\n",
    "import os\n",
    "import re\n",
    "from sklearn.metrics import roc_auc_score\n",
    "from sklearn.metrics import mean_squared_error\n",
    "from sklearn.metrics import average_precision_score\n",
    "\n",
    "preprocessed_path = '/workspace/TAIL_MIL/dataset/SMD/preprocessed_set/'\n",
    "interpretation_path = '/workspace/TAIL_MIL/dataset/SMD/interpretation_label/'\n",
    "\n",
    "x_train_path = [preprocessed_path + t for t in sorted(os.listdir(preprocessed_path)) if 'train' in t]\n",
    "x_test_path = [preprocessed_path + t for t in sorted(os.listdir(preprocessed_path)) if 'test.' in t]\n",
    "y_test_path = [preprocessed_path + t for t in sorted(os.listdir(preprocessed_path)) if 'test_' in t]\n",
    "y_test_label = [interpretation_path + t for t in sorted(os.listdir(interpretation_path)) if 'machine' in t]"
   ]
  },
  {
   "cell_type": "code",
   "execution_count": 2,
   "id": "c8d3ddc4",
   "metadata": {
    "scrolled": true
   },
   "outputs": [
    {
     "name": "stderr",
     "output_type": "stream",
     "text": [
      "/tmp/ipykernel_12628/3036577632.py:1: TqdmDeprecationWarning: This function will be removed in tqdm==5.0.0\n",
      "Please use `tqdm.notebook.tqdm` instead of `tqdm.tqdm_notebook`\n",
      "  for ii in tqdm_notebook(range(len(x_train_path))):\n"
     ]
    },
    {
     "data": {
      "application/vnd.jupyter.widget-view+json": {
       "model_id": "ec13eeb6fdc641f194f177dc7adbc278",
       "version_major": 2,
       "version_minor": 0
      },
      "text/plain": [
       "  0%|          | 0/11 [00:00<?, ?it/s]"
      ]
     },
     "metadata": {},
     "output_type": "display_data"
    },
    {
     "name": "stdout",
     "output_type": "stream",
     "text": [
      "<_io.TextIOWrapper name='/workspace/TAIL_MIL/dataset/SMD/interpretation_label/machine-1-1.txt' mode='r' encoding='UTF-8'>\n",
      "-------------------------------------------------------------\n",
      "machine-1-1_train\n",
      "Data normalized\n",
      "Data normalized\n",
      "train_size: 22774\n",
      "validation_size: 5693\n",
      "test_size: 28467\n"
     ]
    },
    {
     "name": "stderr",
     "output_type": "stream",
     "text": [
      "/tmp/ipykernel_12628/3036577632.py:86: TqdmDeprecationWarning: This function will be removed in tqdm==5.0.0\n",
      "Please use `tqdm.notebook.tqdm` instead of `tqdm.tqdm_notebook`\n",
      "  for e in tqdm_notebook(range(epochs)):\n"
     ]
    },
    {
     "data": {
      "application/vnd.jupyter.widget-view+json": {
       "model_id": "ff92dc33f2ff40788a6ed3d0c20cc3fa",
       "version_major": 2,
       "version_minor": 0
      },
      "text/plain": [
       "  0%|          | 0/100 [00:00<?, ?it/s]"
      ]
     },
     "metadata": {},
     "output_type": "display_data"
    },
    {
     "name": "stdout",
     "output_type": "stream",
     "text": [
      "Slinding Window Performance\n",
      "AUROC: 0.914903631860145\n",
      "AUPR: 0.6201934814205685\n",
      "One Step Performance\n",
      "AUROC: 0.8891126747025044\n",
      "AUPR: 0.5964226980968581\n",
      "Interpretation Performance\n",
      "ACC: 0.2845894263217098\n",
      "-------------------------------------------------------------\n",
      "<_io.TextIOWrapper name='/workspace/TAIL_MIL/dataset/SMD/interpretation_label/machine-1-2.txt' mode='r' encoding='UTF-8'>\n",
      "-------------------------------------------------------------\n",
      "machine-1-2_train\n",
      "Data normalized\n",
      "Data normalized\n",
      "train_size: 18946\n",
      "validation_size: 4736\n",
      "test_size: 23682\n"
     ]
    },
    {
     "name": "stderr",
     "output_type": "stream",
     "text": [
      "/tmp/ipykernel_12628/3036577632.py:86: TqdmDeprecationWarning: This function will be removed in tqdm==5.0.0\n",
      "Please use `tqdm.notebook.tqdm` instead of `tqdm.tqdm_notebook`\n",
      "  for e in tqdm_notebook(range(epochs)):\n"
     ]
    },
    {
     "data": {
      "application/vnd.jupyter.widget-view+json": {
       "model_id": "0145a05795464994830da13262dceed5",
       "version_major": 2,
       "version_minor": 0
      },
      "text/plain": [
       "  0%|          | 0/100 [00:00<?, ?it/s]"
      ]
     },
     "metadata": {},
     "output_type": "display_data"
    },
    {
     "name": "stdout",
     "output_type": "stream",
     "text": [
      "Slinding Window Performance\n",
      "AUROC: 0.8299469350460457\n",
      "AUPR: 0.22428688933885743\n",
      "One Step Performance\n",
      "AUROC: 0.7098728420300624\n",
      "AUPR: 0.12134225051407585\n",
      "Interpretation Performance\n",
      "ACC: 0.23985239852398524\n",
      "-------------------------------------------------------------\n",
      "<_io.TextIOWrapper name='/workspace/TAIL_MIL/dataset/SMD/interpretation_label/machine-1-3.txt' mode='r' encoding='UTF-8'>\n",
      "-------------------------------------------------------------\n",
      "machine-1-3_train\n",
      "Data normalized\n",
      "Data normalized\n",
      "train_size: 18952\n",
      "validation_size: 4738\n",
      "test_size: 23691\n"
     ]
    },
    {
     "name": "stderr",
     "output_type": "stream",
     "text": [
      "/tmp/ipykernel_12628/3036577632.py:86: TqdmDeprecationWarning: This function will be removed in tqdm==5.0.0\n",
      "Please use `tqdm.notebook.tqdm` instead of `tqdm.tqdm_notebook`\n",
      "  for e in tqdm_notebook(range(epochs)):\n"
     ]
    },
    {
     "data": {
      "application/vnd.jupyter.widget-view+json": {
       "model_id": "165ca5c94df54f2fa6fea7dbde684915",
       "version_major": 2,
       "version_minor": 0
      },
      "text/plain": [
       "  0%|          | 0/100 [00:00<?, ?it/s]"
      ]
     },
     "metadata": {},
     "output_type": "display_data"
    },
    {
     "name": "stdout",
     "output_type": "stream",
     "text": [
      "Slinding Window Performance\n",
      "AUROC: 0.8459802768564664\n",
      "AUPR: 0.1768443733516168\n",
      "One Step Performance\n",
      "AUROC: 0.7773164017363388\n",
      "AUPR: 0.13871430117020972\n",
      "Interpretation Performance\n",
      "ACC: 0.1453416149068323\n",
      "-------------------------------------------------------------\n",
      "<_io.TextIOWrapper name='/workspace/TAIL_MIL/dataset/SMD/interpretation_label/machine-1-4.txt' mode='r' encoding='UTF-8'>\n",
      "-------------------------------------------------------------\n",
      "machine-1-4_train\n",
      "Data normalized\n",
      "Data normalized\n",
      "train_size: 18956\n",
      "validation_size: 4738\n",
      "test_size: 23695\n"
     ]
    },
    {
     "name": "stderr",
     "output_type": "stream",
     "text": [
      "/tmp/ipykernel_12628/3036577632.py:86: TqdmDeprecationWarning: This function will be removed in tqdm==5.0.0\n",
      "Please use `tqdm.notebook.tqdm` instead of `tqdm.tqdm_notebook`\n",
      "  for e in tqdm_notebook(range(epochs)):\n"
     ]
    },
    {
     "data": {
      "application/vnd.jupyter.widget-view+json": {
       "model_id": "7cd223b6f03e4165919c208b0ac4474a",
       "version_major": 2,
       "version_minor": 0
      },
      "text/plain": [
       "  0%|          | 0/100 [00:00<?, ?it/s]"
      ]
     },
     "metadata": {},
     "output_type": "display_data"
    },
    {
     "name": "stdout",
     "output_type": "stream",
     "text": [
      "Slinding Window Performance\n",
      "AUROC: 0.8459306268817212\n",
      "AUPR: 0.18706277446265174\n",
      "One Step Performance\n",
      "AUROC: 0.7389225003022609\n",
      "AUPR: 0.12346621829264669\n",
      "Interpretation Performance\n",
      "ACC: 0.12777777777777777\n",
      "-------------------------------------------------------------\n",
      "<_io.TextIOWrapper name='/workspace/TAIL_MIL/dataset/SMD/interpretation_label/machine-1-5.txt' mode='r' encoding='UTF-8'>\n",
      "-------------------------------------------------------------\n",
      "machine-1-5_train\n",
      "Data normalized\n",
      "Data normalized\n",
      "train_size: 18955\n",
      "validation_size: 4738\n",
      "test_size: 23694\n"
     ]
    },
    {
     "name": "stderr",
     "output_type": "stream",
     "text": [
      "/tmp/ipykernel_12628/3036577632.py:86: TqdmDeprecationWarning: This function will be removed in tqdm==5.0.0\n",
      "Please use `tqdm.notebook.tqdm` instead of `tqdm.tqdm_notebook`\n",
      "  for e in tqdm_notebook(range(epochs)):\n"
     ]
    },
    {
     "data": {
      "application/vnd.jupyter.widget-view+json": {
       "model_id": "f1783803bea4422f8f366c3ebf3be7ae",
       "version_major": 2,
       "version_minor": 0
      },
      "text/plain": [
       "  0%|          | 0/100 [00:00<?, ?it/s]"
      ]
     },
     "metadata": {},
     "output_type": "display_data"
    },
    {
     "name": "stdout",
     "output_type": "stream",
     "text": [
      "Slinding Window Performance\n",
      "AUROC: 0.9441070277565766\n",
      "AUPR: 0.6212197029536928\n",
      "One Step Performance\n",
      "AUROC: 0.8839997456980587\n",
      "AUPR: 0.5083237944514905\n",
      "Interpretation Performance\n",
      "ACC: 0.8\n",
      "-------------------------------------------------------------\n",
      "<_io.TextIOWrapper name='/workspace/TAIL_MIL/dataset/SMD/interpretation_label/machine-1-6.txt' mode='r' encoding='UTF-8'>\n",
      "-------------------------------------------------------------\n",
      "machine-1-6_train\n",
      "Data normalized\n",
      "Data normalized\n",
      "train_size: 18941\n",
      "validation_size: 4735\n",
      "test_size: 23677\n"
     ]
    },
    {
     "name": "stderr",
     "output_type": "stream",
     "text": [
      "/tmp/ipykernel_12628/3036577632.py:86: TqdmDeprecationWarning: This function will be removed in tqdm==5.0.0\n",
      "Please use `tqdm.notebook.tqdm` instead of `tqdm.tqdm_notebook`\n",
      "  for e in tqdm_notebook(range(epochs)):\n"
     ]
    },
    {
     "data": {
      "application/vnd.jupyter.widget-view+json": {
       "model_id": "bd4a218e592c40d29574a889a9dfb5ae",
       "version_major": 2,
       "version_minor": 0
      },
      "text/plain": [
       "  0%|          | 0/100 [00:00<?, ?it/s]"
      ]
     },
     "metadata": {},
     "output_type": "display_data"
    },
    {
     "name": "stdout",
     "output_type": "stream",
     "text": [
      "Slinding Window Performance\n",
      "AUROC: 0.9220365436646577\n",
      "AUPR: 0.8730119216274529\n",
      "One Step Performance\n",
      "AUROC: 0.9251840757705188\n",
      "AUPR: 0.8799309919383843\n",
      "Interpretation Performance\n",
      "ACC: 0.5585221143473571\n",
      "-------------------------------------------------------------\n",
      "<_io.TextIOWrapper name='/workspace/TAIL_MIL/dataset/SMD/interpretation_label/machine-1-7.txt' mode='r' encoding='UTF-8'>\n",
      "-------------------------------------------------------------\n",
      "machine-1-7_train\n",
      "Data normalized\n",
      "Data normalized\n",
      "train_size: 18948\n",
      "validation_size: 4737\n",
      "test_size: 23685\n"
     ]
    },
    {
     "name": "stderr",
     "output_type": "stream",
     "text": [
      "/tmp/ipykernel_12628/3036577632.py:86: TqdmDeprecationWarning: This function will be removed in tqdm==5.0.0\n",
      "Please use `tqdm.notebook.tqdm` instead of `tqdm.tqdm_notebook`\n",
      "  for e in tqdm_notebook(range(epochs)):\n"
     ]
    },
    {
     "data": {
      "application/vnd.jupyter.widget-view+json": {
       "model_id": "7bb64d1016cb40138ff4b2eb0764089a",
       "version_major": 2,
       "version_minor": 0
      },
      "text/plain": [
       "  0%|          | 0/100 [00:00<?, ?it/s]"
      ]
     },
     "metadata": {},
     "output_type": "display_data"
    },
    {
     "name": "stdout",
     "output_type": "stream",
     "text": [
      "Slinding Window Performance\n",
      "AUROC: 0.7683780271426025\n",
      "AUPR: 0.3374215009958204\n",
      "One Step Performance\n",
      "AUROC: 0.7953624426612851\n",
      "AUPR: 0.37735989358651517\n",
      "Interpretation Performance\n",
      "ACC: 0.10133444537114263\n",
      "-------------------------------------------------------------\n",
      "<_io.TextIOWrapper name='/workspace/TAIL_MIL/dataset/SMD/interpretation_label/machine-1-8.txt' mode='r' encoding='UTF-8'>\n",
      "-------------------------------------------------------------\n",
      "machine-1-8_train\n",
      "Data normalized\n",
      "Data normalized\n",
      "train_size: 18949\n",
      "validation_size: 4737\n",
      "test_size: 23687\n"
     ]
    },
    {
     "name": "stderr",
     "output_type": "stream",
     "text": [
      "/tmp/ipykernel_12628/3036577632.py:86: TqdmDeprecationWarning: This function will be removed in tqdm==5.0.0\n",
      "Please use `tqdm.notebook.tqdm` instead of `tqdm.tqdm_notebook`\n",
      "  for e in tqdm_notebook(range(epochs)):\n"
     ]
    },
    {
     "data": {
      "application/vnd.jupyter.widget-view+json": {
       "model_id": "2ecb6afa451741f9901ad36e507602d8",
       "version_major": 2,
       "version_minor": 0
      },
      "text/plain": [
       "  0%|          | 0/100 [00:00<?, ?it/s]"
      ]
     },
     "metadata": {},
     "output_type": "display_data"
    },
    {
     "name": "stdout",
     "output_type": "stream",
     "text": [
      "Slinding Window Performance\n",
      "AUROC: 0.751535148798066\n",
      "AUPR: 0.2804426983062452\n",
      "One Step Performance\n",
      "AUROC: 0.6511415119948463\n",
      "AUPR: 0.2610456073703935\n",
      "Interpretation Performance\n",
      "ACC: 0.2503276539973788\n",
      "-------------------------------------------------------------\n",
      "<_io.TextIOWrapper name='/workspace/TAIL_MIL/dataset/SMD/interpretation_label/machine-2-1.txt' mode='r' encoding='UTF-8'>\n",
      "-------------------------------------------------------------\n",
      "machine-2-1_train\n",
      "Data normalized\n",
      "Data normalized\n",
      "train_size: 18945\n",
      "validation_size: 4736\n",
      "test_size: 23682\n"
     ]
    },
    {
     "name": "stderr",
     "output_type": "stream",
     "text": [
      "/tmp/ipykernel_12628/3036577632.py:86: TqdmDeprecationWarning: This function will be removed in tqdm==5.0.0\n",
      "Please use `tqdm.notebook.tqdm` instead of `tqdm.tqdm_notebook`\n",
      "  for e in tqdm_notebook(range(epochs)):\n"
     ]
    },
    {
     "data": {
      "application/vnd.jupyter.widget-view+json": {
       "model_id": "9bb6d030d9dc4db38bb485d8582f12c9",
       "version_major": 2,
       "version_minor": 0
      },
      "text/plain": [
       "  0%|          | 0/100 [00:00<?, ?it/s]"
      ]
     },
     "metadata": {},
     "output_type": "display_data"
    },
    {
     "name": "stdout",
     "output_type": "stream",
     "text": [
      "Slinding Window Performance\n",
      "AUROC: 0.7299193132482572\n",
      "AUPR: 0.1942471222269911\n",
      "One Step Performance\n",
      "AUROC: 0.6690452461441267\n",
      "AUPR: 0.14658512129759513\n",
      "Interpretation Performance\n",
      "ACC: 0.34957264957264955\n",
      "-------------------------------------------------------------\n",
      "<_io.TextIOWrapper name='/workspace/TAIL_MIL/dataset/SMD/interpretation_label/machine-2-2.txt' mode='r' encoding='UTF-8'>\n",
      "-------------------------------------------------------------\n",
      "machine-2-2_train\n",
      "Data normalized\n",
      "Data normalized\n",
      "train_size: 18950\n",
      "validation_size: 4737\n",
      "test_size: 23688\n"
     ]
    },
    {
     "name": "stderr",
     "output_type": "stream",
     "text": [
      "/tmp/ipykernel_12628/3036577632.py:86: TqdmDeprecationWarning: This function will be removed in tqdm==5.0.0\n",
      "Please use `tqdm.notebook.tqdm` instead of `tqdm.tqdm_notebook`\n",
      "  for e in tqdm_notebook(range(epochs)):\n"
     ]
    },
    {
     "data": {
      "application/vnd.jupyter.widget-view+json": {
       "model_id": "5e544db7252d45d78276cca2b38a69c9",
       "version_major": 2,
       "version_minor": 0
      },
      "text/plain": [
       "  0%|          | 0/100 [00:00<?, ?it/s]"
      ]
     },
     "metadata": {},
     "output_type": "display_data"
    },
    {
     "name": "stdout",
     "output_type": "stream",
     "text": [
      "Slinding Window Performance\n",
      "AUROC: 0.5460984133485902\n",
      "AUPR: 0.16060735200944937\n",
      "One Step Performance\n",
      "AUROC: 0.5367904453142117\n",
      "AUPR: 0.1371526266494741\n",
      "Interpretation Performance\n",
      "ACC: 0.1418990469466996\n",
      "-------------------------------------------------------------\n",
      "<_io.TextIOWrapper name='/workspace/TAIL_MIL/dataset/SMD/interpretation_label/machine-2-3.txt' mode='r' encoding='UTF-8'>\n",
      "-------------------------------------------------------------\n",
      "machine-2-3_train\n",
      "Data normalized\n",
      "Data normalized\n",
      "train_size: 18941\n",
      "validation_size: 4735\n",
      "test_size: 23677\n"
     ]
    },
    {
     "name": "stderr",
     "output_type": "stream",
     "text": [
      "/tmp/ipykernel_12628/3036577632.py:86: TqdmDeprecationWarning: This function will be removed in tqdm==5.0.0\n",
      "Please use `tqdm.notebook.tqdm` instead of `tqdm.tqdm_notebook`\n",
      "  for e in tqdm_notebook(range(epochs)):\n"
     ]
    },
    {
     "data": {
      "application/vnd.jupyter.widget-view+json": {
       "model_id": "a567eac0b92343028dd02c2eb1d9ca91",
       "version_major": 2,
       "version_minor": 0
      },
      "text/plain": [
       "  0%|          | 0/100 [00:00<?, ?it/s]"
      ]
     },
     "metadata": {},
     "output_type": "display_data"
    },
    {
     "name": "stdout",
     "output_type": "stream",
     "text": [
      "Slinding Window Performance\n",
      "AUROC: 0.9489846026168689\n",
      "AUPR: 0.4785420158095708\n",
      "One Step Performance\n",
      "AUROC: 0.917298632691902\n",
      "AUPR: 0.3437402160698954\n",
      "Interpretation Performance\n",
      "ACC: 0.4460431654676259\n",
      "-------------------------------------------------------------\n"
     ]
    }
   ],
   "source": [
    "for ii in tqdm_notebook(range(len(x_train_path))):\n",
    "    f = open(x_train_path[ii], \"rb\")\n",
    "    x_train = pickle.load(f)\n",
    "    f.close()\n",
    "\n",
    "    f = open(x_test_path[ii], \"rb\")\n",
    "    x_test = pickle.load(f)\n",
    "    f.close()\n",
    "\n",
    "    f = open(y_test_path[ii], \"rb\")\n",
    "    y_test = pickle.load(f).reshape((-1))\n",
    "    f.close()\n",
    "\n",
    "    f = open(y_test_label[ii], 'r')     \n",
    "    print(f) \n",
    "    lines= f.read()\n",
    "    f.close()\n",
    "\n",
    "    print('-------------------------------------------------------------')\n",
    "    print(x_train_path[ii].split('/')[-1][:-4])\n",
    "    \n",
    "    start_indexes = []\n",
    "    end_indexes = []\n",
    "    i_labels = []\n",
    "\n",
    "    for info in lines.split('\\n')[:-1]:\n",
    "        pattern = r'(\\d+)-(\\d+):([\\d,]+)'\n",
    "        match = re.match(pattern, info)\n",
    "        if match:\n",
    "            start_index = int(match.group(1))\n",
    "            end_index = int(match.group(2))\n",
    "            columns_to_label = list(map(int, match.group(3).split(',')))\n",
    "\n",
    "            start_indexes.append(start_index)\n",
    "            end_indexes.append(end_index)\n",
    "            i_labels.append(columns_to_label)\n",
    "\n",
    "    x_train, scaler = normalize_data(x_train, scaler=None)\n",
    "    x_test, _ = normalize_data(x_test, scaler=scaler)\n",
    "\n",
    "    n_features = x_train.shape[1]\n",
    "    window_size, target_dims = 12, x_train.shape[1]\n",
    "    out_dim = 1\n",
    "    batch_size, val_split, shuffle_dataset = 128, 0.2, True\n",
    "\n",
    "    train_dataset = SlidingWindowDataset(x_train, window_size, target_dims)\n",
    "    test_dataset = SlidingWindowDataset(x_test, window_size, target_dims)\n",
    "\n",
    "    train_loader, val_loader, test_loader = create_data_loaders(\n",
    "        train_dataset, batch_size, val_split, shuffle_dataset, test_dataset=test_dataset\n",
    "    )\n",
    "\n",
    "    device = torch.device(\"cuda:0\")\n",
    "\n",
    "\n",
    "    model = MTAD_GAT_RECON(\n",
    "        n_features,\n",
    "        window_size,\n",
    "        n_features,\n",
    "        kernel_size=7,\n",
    "        use_gatv2=True,\n",
    "        feat_gat_embed_dim=None,\n",
    "        time_gat_embed_dim=None,\n",
    "        gru_n_layers=1,\n",
    "        gru_hid_dim=300,\n",
    "        recon_n_layers=1,\n",
    "        recon_hid_dim=300,\n",
    "        dropout=0.3,\n",
    "        alpha=0.2\n",
    "    ).to(device)\n",
    "\n",
    "    optimizer = torch.optim.Adam(model.parameters(), lr= 0.001)\n",
    "    # forecast_criterion = nn.MSELoss()\n",
    "    recon_criterion = nn.MSELoss()\n",
    "    epochs = 100\n",
    "\n",
    "    save_path = 'Model/' + x_train_path[ii].split('/')[-1][:-4]+'.p'\n",
    "\n",
    "    train_reconstruct_losses = []\n",
    "\n",
    "    valid_reconstruct_losses = []\n",
    "\n",
    "    min_loss = 999999\n",
    "\n",
    "    for e in tqdm_notebook(range(epochs)):\n",
    "        model.train()\n",
    "\n",
    "        forecast_b_losses = []\n",
    "        recon_b_losses = []\n",
    "\n",
    "        for x, y in train_loader:\n",
    "            x = x.to(device)\n",
    "            y = y.to(device)\n",
    "            optimizer.zero_grad()\n",
    "\n",
    "            recons = model(x)\n",
    "\n",
    "            recon_loss = torch.sqrt(recon_criterion(x, recons))\n",
    "\n",
    "            recon_loss.backward()\n",
    "            optimizer.step()\n",
    "\n",
    "            recon_b_losses.append(recon_loss.item())\n",
    "\n",
    "        recon_b_losses = np.array(recon_b_losses)\n",
    "\n",
    "        recon_epoch_loss = np.sqrt((recon_b_losses ** 2).mean())\n",
    "\n",
    "        train_reconstruct_losses.append(recon_epoch_loss)\n",
    "\n",
    "    #     if e == 0 or (e+1) % 5 == 0:\n",
    "    #         print(f'Train Loss')\n",
    "    #         print(f'Train Reconstruct Loss: {recon_epoch_loss}')\n",
    "\n",
    "        model.eval()\n",
    "        recon_b_losses = []\n",
    "\n",
    "        for x, y in val_loader:\n",
    "            x = x.to(device)\n",
    "            y = y.to(device)\n",
    "            recons = model(x)\n",
    "\n",
    "            recon_loss = torch.sqrt(recon_criterion(x, recons))\n",
    "\n",
    "            recon_b_losses.append(recon_loss.item())\n",
    "\n",
    "        recon_b_losses = np.array(recon_b_losses)\n",
    "\n",
    "        recon_epoch_loss = np.sqrt((recon_b_losses ** 2).mean())\n",
    "\n",
    "        valid_reconstruct_losses.append(recon_epoch_loss)\n",
    "\n",
    "    #     if e == 0 or (e+1) % 5 == 0:\n",
    "    #         print(f'Valid Loss')\n",
    "    #         print(f'Valid Reconstruct Loss: {recon_epoch_loss}')\n",
    "\n",
    "        if min_loss > recon_epoch_loss:\n",
    "            min_loss = recon_epoch_loss\n",
    "            torch.save(model.state_dict(), save_path)\n",
    "\n",
    "    model.load_state_dict(torch.load(save_path))\n",
    "\n",
    "    recons = []\n",
    "\n",
    "    for x, y in test_loader:\n",
    "        x = x.to(device)\n",
    "        y = y.to(device)\n",
    "        y_hat = model(x)\n",
    "\n",
    "        recons.append((y_hat - y).detach().cpu().numpy()**2)\n",
    "\n",
    "    recons = np.concatenate(recons, axis=0)\n",
    "\n",
    "    sliding_window_label = []\n",
    "\n",
    "    for i in range(len(y_test)-12):\n",
    "        if sum(y_test[i:i+12]) > 0:\n",
    "            sliding_window_label.append(1)\n",
    "        else:\n",
    "            sliding_window_label.append(0)\n",
    "\n",
    "    sliding_window_label = np.array(sliding_window_label)\n",
    "\n",
    "    sliding_window_label.shape\n",
    "\n",
    "    print('Slinding Window Performance')\n",
    "    print(f'AUROC: {roc_auc_score(sliding_window_label, recons.sum(2).sum(1))}')\n",
    "    print(f'AUPR: {average_precision_score(sliding_window_label, recons.sum(2).sum(1))}')\n",
    "\n",
    "    print('One Step Performance')\n",
    "    print(f'AUROC: {roc_auc_score(y_test[12:], recons[:, -1].sum(1))}')\n",
    "    print(f'AUPR: {average_precision_score(y_test[12:], recons[:, -1].sum(1))}')\n",
    "\n",
    "    corrects = []\n",
    "    for i in range(len(start_indexes)):\n",
    "        temp_preds = recons[:, -1].reshape(-1, 38)[start_indexes[i]:end_indexes[i]].argmax(1)\n",
    "        for j in range(len(temp_preds)):\n",
    "            if temp_preds[j] in i_labels[i]:\n",
    "                corrects.append(1)\n",
    "            else:\n",
    "                corrects.append(0)\n",
    "\n",
    "    print('Interpretation Performance')\n",
    "    print(f'ACC: {sum(corrects) / len(corrects)}')\n",
    "    print('-------------------------------------------------------------')"
   ]
  },
  {
   "cell_type": "code",
   "execution_count": null,
   "id": "cbb11269",
   "metadata": {},
   "outputs": [],
   "source": [
    "print()\n",
    "print('Slinding Window Performance')\n",
    "print(f'AUROC: {roc_auc_score(sliding_window_label, recons.sum(2).sum(1))}')\n",
    "print(f'AUPR: {average_precision_score(sliding_window_label, recons.sum(2).sum(1))}')\n",
    "print()\n",
    "print('One Step Performance')\n",
    "print(f'AUROC: {roc_auc_score(y_test[12:], recons[:, -1].sum(1))}')\n",
    "print(f'AUPR: {average_precision_score(y_test[12:], recons[:, -1].sum(1))}')\n",
    "\n",
    "corrects = []\n",
    "for i in range(len(start_indexes)):\n",
    "    temp_preds = recons[:, -1].reshape(-1, 38)[start_indexes[i]:end_indexes[i]].argmax(1)\n",
    "    for j in range(len(temp_preds)):\n",
    "        if temp_preds[j] in i_labels[i]:\n",
    "            corrects.append(1)\n",
    "        else:\n",
    "            corrects.append(0)\n",
    "print()\n",
    "print('Interpretation Performance')\n",
    "print(f'ACC: {sum(corrects) / len(corrects)}')\n",
    "print()"
   ]
  },
  {
   "cell_type": "code",
   "execution_count": 7,
   "id": "111cc91b",
   "metadata": {},
   "outputs": [],
   "source": []
  },
  {
   "cell_type": "code",
   "execution_count": null,
   "id": "645687fc",
   "metadata": {},
   "outputs": [],
   "source": []
  }
 ],
 "metadata": {
  "kernelspec": {
   "display_name": "Python 3 (ipykernel)",
   "language": "python",
   "name": "python3"
  },
  "language_info": {
   "codemirror_mode": {
    "name": "ipython",
    "version": 3
   },
   "file_extension": ".py",
   "mimetype": "text/x-python",
   "name": "python",
   "nbconvert_exporter": "python",
   "pygments_lexer": "ipython3",
   "version": "3.10.13"
  }
 },
 "nbformat": 4,
 "nbformat_minor": 5
}
